{
 "cells": [
  {
   "cell_type": "markdown",
   "metadata": {},
   "source": [
    "# Notebook to create the dataset with historical features\n",
    "\n",
    "This notebook is used to create the dataset composed by current features, plus historical ones.\n",
    "\n",
    "Input: \n",
    "- < selected> the best dataset according to the previous Grid Search i.e., 3-FeatureSelection\n",
    "- <h0> how much history should be remembered \n",
    "Output: \n",
    "\n",
    "- < \"dataset/%d.pkl\"> all datasets composed current features + historical ones"
   ]
  },
  {
   "cell_type": "code",
   "execution_count": 1,
   "metadata": {},
   "outputs": [],
   "source": [
    "import matplotlib.pyplot as plt\n",
    "import pandas as pd\n",
    "import numpy as np\n",
    "import pickle\n",
    "import sys\n",
    "import os"
   ]
  },
  {
   "cell_type": "code",
   "execution_count": 2,
   "metadata": {},
   "outputs": [],
   "source": [
    "def createHistory(Presentdf,history):\n",
    "    \n",
    "    features = list(Presentdf.columns)\n",
    "    features.remove(\"ExpID\")\n",
    "    features.remove(\"Label\")\n",
    "    \n",
    "    \n",
    "    \n",
    "    Dataset = np.array(Presentdf[features])\n",
    "    IDs = list(Presentdf[\"ExpID\"])\n",
    "    Labels = list(Presentdf[\"Label\"])\n",
    "    \n",
    "    \n",
    "    HistoryIDs     = []\n",
    "    HistoryDataset = []\n",
    "    HistoryLabels  = []\n",
    "    \n",
    "    for i in range(history,len(Dataset)):\n",
    "        Row = []\n",
    "\n",
    "        for j in range(i-history,i+1):\n",
    "            Row += list(Dataset[j])\n",
    "\n",
    "        HistoryIDs.append(IDs[i])\n",
    "        HistoryDataset.append(Row)\n",
    "        HistoryLabels.append(Labels[i])\n",
    "    \n",
    "    HistoryFeatures = []\n",
    "    for i in range(history+1):\n",
    "        for feature in features:\n",
    "            HistoryFeatures.append(feature + \" t%d\"%i)\n",
    "    \n",
    "    \n",
    "    return HistoryDataset, HistoryLabels, HistoryIDs, HistoryFeatures"
   ]
  },
  {
   "cell_type": "code",
   "execution_count": 3,
   "metadata": {},
   "outputs": [],
   "source": [
    "selected = 1\n",
    "Presentdf = pickle.load(open(\"../3-FeatureSelection/dataset/%d\"%selected+\".pkl\",\"rb\"))\n",
    "\n",
    "if not os.path.exists('dataset'):\n",
    "    os.makedirs('dataset')    \n",
    "    \n",
    "#Create Historical Dataset from current only up to 10 previous cycles\n",
    "for h0 in [0,1,2,3,4,5,6,7,8,9,10]:\n",
    "    Xnp, Ynp, Id, HistoryFeatures = createHistory(Presentdf,h0)\n",
    "\n",
    "    df = pd.DataFrame.from_records(Xnp)\n",
    "    df.columns = HistoryFeatures\n",
    "    df.insert(loc=0, column='ExpID', value=Id)\n",
    "    df['Label']=Ynp\n",
    "    pickle.dump(df,open(\"dataset/%d.pkl\"%h0,\"wb\")) \n"
   ]
  }
 ],
 "metadata": {
  "kernelspec": {
   "display_name": "Python 3",
   "language": "python",
   "name": "python3"
  },
  "language_info": {
   "codemirror_mode": {
    "name": "ipython",
    "version": 3
   },
   "file_extension": ".py",
   "mimetype": "text/x-python",
   "name": "python",
   "nbconvert_exporter": "python",
   "pygments_lexer": "ipython3",
   "version": "3.7.5"
  }
 },
 "nbformat": 4,
 "nbformat_minor": 4
}
