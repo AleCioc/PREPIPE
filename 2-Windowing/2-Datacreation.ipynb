{
 "cells": [
  {
   "cell_type": "markdown",
   "metadata": {},
   "source": [
    "# Notebook to create the dataset for the grid search\n",
    "\n",
    "This notebook is used to perform the second step of windowing i.e., split the cycles into multiple parts.\n",
    "\n",
    "Input: \n",
    "- < cycle_order.csv> the file with the list of cycles and their labels\n",
    "- < selected> the best signal selection according to the previous Grid Search i.e., 1-SignalSelection\n",
    "- < DeltaT> the window duration\n",
    "\n",
    "Output: \n",
    "- <\"dataset/\"+selected+\".pkl\"> the dataset for the Grid Search"
   ]
  },
  {
   "cell_type": "code",
   "execution_count": 1,
   "metadata": {},
   "outputs": [],
   "source": [
    "import pandas as pd\n",
    "import pathlib\n",
    "import pickle\n",
    "import sys\n",
    "import os \n",
    "\n",
    "\n",
    "ParentPath = str(pathlib.Path().absolute().parent)\n",
    "sys.path.insert(1, ParentPath+'/classes/public/')\n",
    "from makerDatasetSpecialized import MakerDatasetSpec\n",
    "\n",
    "\n",
    "ParentPath = str(pathlib.Path().absolute().parent)\n",
    "\n",
    "\n",
    "\n",
    "if not os.path.exists('dataset'):\n",
    "    os.makedirs('dataset')    \n",
    "\n",
    "#path of the cycles\n",
    "fpath = ParentPath+'/data/'\n",
    "\n",
    "file_label = pd.read_csv(fpath+'cycle_order.csv', sep=\",\")\n",
    "\n",
    "selected=\"All\"\n",
    "signalsSelected = pickle.load(open(\"../1-SignalSelection/selected/\"+selected+\".pkl\",\"rb\"))\n",
    "\n",
    "for DeltaT in [60]: \n",
    "\n",
    "    maker = MakerDatasetSpec(file_label, fpath, minuteWindow = DeltaT)\n",
    "    Xnp, Ynp, Id = maker.makeDataset(signals=signalsSelected)\n",
    "    df = pd.DataFrame.from_records(Xnp)\n",
    "    df.columns = maker.features\n",
    "    df.insert(loc=0, column='ExpID', value=Id)\n",
    "    df['Label']=Ynp\n",
    "    pickle.dump(df,open(\"dataset/%d.pkl\"%DeltaT,\"wb\"))    \n"
   ]
  }
 ],
 "metadata": {
  "kernelspec": {
   "display_name": "Python 3",
   "language": "python",
   "name": "python3"
  },
  "language_info": {
   "codemirror_mode": {
    "name": "ipython",
    "version": 3
   },
   "file_extension": ".py",
   "mimetype": "text/x-python",
   "name": "python",
   "nbconvert_exporter": "python",
   "pygments_lexer": "ipython3",
   "version": "3.7.5"
  }
 },
 "nbformat": 4,
 "nbformat_minor": 4
}
