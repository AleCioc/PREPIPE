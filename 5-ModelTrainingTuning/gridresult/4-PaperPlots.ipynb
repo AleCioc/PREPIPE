{
 "cells": [
  {
   "cell_type": "markdown",
   "metadata": {},
   "source": [
    "# Notebook to make the paper plots for step 4-Historicization\n",
    "\n",
    "This notebook allow researchers to reproduce the paper plots for step 4-Historicization, plus identify the best choice for this step.\n"
   ]
  },
  {
   "cell_type": "code",
   "execution_count": null,
   "metadata": {},
   "outputs": [],
   "source": [
    "import pandas as pd\n",
    "import numpy as np\n",
    "import matplotlib.pyplot as plt\n",
    "\n",
    "def harmonic(p,r):\n",
    "    \n",
    "    return 0 if p == 0 or r == 0 else (2 * p * r) / (p + r)\n",
    "\n",
    "MeanResult = {\n",
    "    \"Classifier\":[],  \n",
    "    \"Red\":[],   \n",
    "    \"Accuracy\":[]   \n",
    "}    \n",
    "\n",
    "\n",
    "for selected in range(1,11):\n",
    "    for classifier in [\"mlp\"]:\n",
    "        MeanResult['Classifier'].append(str(selected))\n",
    "        df = pd.read_csv(\"4-Historicization/CV_%s-%s.csv\"%(str(selected),classifier),sep=\";\")\n",
    "\n",
    "        df['meanF'] = df.apply(lambda row: (harmonic(row['D1R-F1'],row['D2R-F1'])), axis=1) \n",
    "        df['meanA'] = df.apply(lambda row: (harmonic(row['D1Accuracy'],row['D2Accuracy'])), axis=1) \n",
    "        Sorted_DF = df.sort_values(['meanF', 'meanA'], ascending=[False, False])\n",
    "\n",
    "        \n",
    "        MeanF = float(Sorted_DF['meanF'].iloc[0])\n",
    "        MeanA = float(Sorted_DF['meanA'].iloc[0])\n",
    "\n",
    "        MeanResult[\"Red\"].append(MeanF)\n",
    "        MeanResult[\"Accuracy\"].append(MeanA)\n",
    "\n",
    "                   \n",
    "\n",
    "fig, ax = plt.subplots(figsize=(10,3)) \n",
    "\n",
    "df.plot(kind='bar', rot=0, ax=ax, color = [\"red\",\"black\"])\n",
    "\n",
    "ax.spines['top'].set_color('none')\n",
    "ax.spines['right'].set_color('none')\n",
    "ax.xaxis.set_ticks_position('bottom')\n",
    "ax.spines['bottom'].set_position(('axes', -0.05))\n",
    "ax.yaxis.set_ticks_position('left')\n",
    "ax.spines['left'].set_position(('axes', -0.03))\n",
    "\n",
    "\n",
    "ax.set_ylabel(\"Harmonic Mean\", fontsize=16)\n",
    "ax.set_yticks([i/10 for i in range(0,11,2)])\n",
    "ax.set_yticklabels([i/10 for i in range(0,11,2)], fontsize=16, rotation=0)\n",
    "ax.set_ylim(0,1)\n",
    "ax.set_xticklabels([i for i in range(0,11)], fontsize=16, rotation=0)\n",
    "ax.set_xlabel(\"$h_0$\", fontsize=16)\n",
    "ax.yaxis.grid()\n",
    "ax.get_legend().remove()\n",
    "plt.tight_layout()  \n",
    "plt.savefig('fig/CV_Historicization.pdf')\n",
    "plt.show()\n",
    "plt.close()"
   ]
  }
 ],
 "metadata": {
  "kernelspec": {
   "display_name": "Python 3",
   "language": "python",
   "name": "python3"
  },
  "language_info": {
   "codemirror_mode": {
    "name": "ipython",
    "version": 3
   },
   "file_extension": ".py",
   "mimetype": "text/x-python",
   "name": "python",
   "nbconvert_exporter": "python",
   "pygments_lexer": "ipython3",
   "version": "3.7.5"
  }
 },
 "nbformat": 4,
 "nbformat_minor": 4
}
