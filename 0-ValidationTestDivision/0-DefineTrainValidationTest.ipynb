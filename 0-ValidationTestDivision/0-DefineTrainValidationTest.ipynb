{
 "cells": [
  {
   "cell_type": "markdown",
   "metadata": {},
   "source": [
    "# Notebook to compute the CAI index\n",
    "\n",
    "Input: \n",
    " - < cycle_order.csv> the file with the list of cycles and their labels\n",
    "\n",
    "Output: \n",
    "- the CAI index plot"
   ]
  },
  {
   "cell_type": "code",
   "execution_count": 1,
   "metadata": {},
   "outputs": [],
   "source": [
    "import matplotlib.patches as patches\n",
    "import matplotlib.pyplot as plt\n",
    "import pandas as pd\n",
    "import numpy as np\n",
    "import pathlib\n",
    "import pickle\n",
    "import sys\n",
    "\n",
    "ParentPath = str(pathlib.Path().absolute().parent)"
   ]
  },
  {
   "cell_type": "code",
   "execution_count": 5,
   "metadata": {},
   "outputs": [
    {
     "data": {
      "image/png": "[encoded data removed]",
      "text/plain": [
       "<Figure size 360x180 with 1 Axes>"
      ]
     },
     "metadata": {
      "needs_background": "light"
     },
     "output_type": "display_data"
    }
   ],
   "source": [
    "#Read file with cycle order and cycle label\n",
    "file_label = pd.read_csv(ParentPath+'/data/cycle_order.csv', sep=\",\")\n",
    "\n",
    "PG = []\n",
    "PY = []\n",
    "PR = []\n",
    "\n",
    "G = 0\n",
    "Y = 0\n",
    "R = 0\n",
    "\n",
    "NG = float(len(file_label[file_label['label']==\"green\"]))\n",
    "NY = float(len(file_label[file_label['label']==\"yellow\"]))\n",
    "NR = float(len(file_label[file_label['label']==\"red\"]))\n",
    "\n",
    "for index, row in file_label.iterrows():\n",
    "    if(row['label']==\"green\"): G+=1\n",
    "    if(row['label']==\"yellow\"): Y+=1\n",
    "    if(row['label']==\"red\"): R+=1\n",
    "    \n",
    "    PG.append(G/NG*100)\n",
    "    PY.append(Y/NY*100)\n",
    "    PR.append(R/NR*100)\n",
    "    \n",
    "CAI = []\n",
    "CAI.append(np.NaN)\n",
    "for i in range(len(PG)):\n",
    "    values = [PG[i],PY[i],PR[i]]\n",
    "    cumdiff = 0\n",
    "    for j in range(len(values)):\n",
    "        for k in range(len(values)):\n",
    "            cumdiff+= abs(values[j]-values[k])\n",
    "    \n",
    "    CAI.append(cumdiff)\n",
    "        \n",
    "\n",
    "fig, ax = plt.subplots(figsize=(5,2.5))\n",
    "ax.plot([CAI[i]/100 for i in range(len(CAI))])\n",
    "\n",
    "rect = patches.Rectangle((0,0),270,4,linewidth=1,edgecolor='r',facecolor='red', alpha=0.2)\n",
    "ax.add_patch(rect)\n",
    "\n",
    "plt.grid()\n",
    "ax.spines['top'].set_color('none')\n",
    "ax.spines['right'].set_color('none')\n",
    "ax.xaxis.set_ticks_position('bottom')\n",
    "ax.spines['bottom'].set_position(('axes', -0.05))\n",
    "ax.yaxis.set_ticks_position('left')\n",
    "ax.spines['left'].set_position(('axes', -0.03))\n",
    "\n",
    "ax.set_ylabel(\"CAI\",fontsize=12)\n",
    "ax.set_xlabel(\"Number of Cycles\",fontsize=12)\n",
    "ax.set_xlim(0,400)\n",
    "plt.xticks(fontsize=12)\n",
    "plt.yticks(fontsize=12)\n",
    "plt.tight_layout()\n",
    "plt.show()\n",
    "plt.close()        "
   ]
  }
 ],
 "metadata": {
  "kernelspec": {
   "display_name": "Python 3",
   "language": "python",
   "name": "python3"
  },
  "language_info": {
   "codemirror_mode": {
    "name": "ipython",
    "version": 3
   },
   "file_extension": ".py",
   "mimetype": "text/x-python",
   "name": "python",
   "nbconvert_exporter": "python",
   "pygments_lexer": "ipython3",
   "version": "3.7.5"
  }
 },
 "nbformat": 4,
 "nbformat_minor": 4
}
